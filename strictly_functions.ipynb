{
 "cells": [
  {
   "cell_type": "code",
   "execution_count": 187,
   "metadata": {},
   "outputs": [],
   "source": [
    "def stats(*variables):\n",
    "    \"\"\"This function cleans an input and sort the numbers in an ascending order.\n",
    "    It also computes the mean as well as the median\"\"\"\n",
    "    mytemplist = []\n",
    "    for eachvariable in variables:\n",
    "        if isinstance(eachvariable,(int,float)):\n",
    "            mytemplist.append(eachvariable)\n",
    "        else:\n",
    "            pass\n",
    "    mytemplist.sort()\n",
    "    lengthofarray = len(mytemplist)\n",
    "    isum = 0\n",
    "    for eachvar in mytemplist:\n",
    "        isum = isum + eachvar\n",
    "    mean = isum/lengthofarray\n",
    "    if lengthofarray%2 != 0:\n",
    "        indexnum = int(((lengthofarray + 1)*0.5)-1)\n",
    "        median = mytemplist[indexnum]\n",
    "    else:\n",
    "        indexnum1 = int(lengthofarray/2)\n",
    "        indexnum2 = int((lengthofarray/2) - 1)\n",
    "        median = (mytemplist[indexnum1] + mytemplist[indexnum2])/2\n",
    "    print(\"The sorted array is: \", mytemplist)\n",
    "    print(\"The sum of the numbers in the array is: \", isum)\n",
    "    print(\"The mean is: \", mean)\n",
    "    print(\"The median is: \", median)\n",
    "    return mytemplist, isum, mean, median\n",
    "\n",
    "\n",
    "#number guessing games\n",
    "#import random\n",
    "#randomized = int(random.randint(1,10))\n",
    "#print(randomized)\n",
    "\n",
    "def resultofguess(user_guess, randomized):\n",
    "    \"\"\"This function takes a user input and validates it against a randomized integer\"\"\"\n",
    "    result = user_guess == randomized\n",
    "    if user_guess < 0 or user_guess > 10:\n",
    "        print(\"You have entered an invalid number.\")\n",
    "    else:\n",
    "        if result == True:\n",
    "            print(\"You entered the correct number!!!\")\n",
    "        else:\n",
    "            print(\"Incorrect!. Please try again\")\n",
    "\n",
    "    \n",
    "    \n",
    "\n",
    "\n",
    "def scoregrade(score):\n",
    "    \"\"\"This function accept a score between 0 and 100 and returns the student's grade\"\"\"\n",
    "    if score < 0 or score > 100:\n",
    "        print(\"You have entered an invalid score\")\n",
    "    else:\n",
    "           if score >= 0 and score < 40:\n",
    "                print(\"Grade: F\")\n",
    "           elif score >= 40 and score < 45:\n",
    "                print(\"Grade: E\")\n",
    "           elif score >= 45 and score < 50:\n",
    "                print(\"Grade: D\")\n",
    "           elif score >= 50 and score < 60:\n",
    "                print(\"Grade: C\")\n",
    "           elif score > 60 and score < 70:\n",
    "                print(\"Grade: B\")\n",
    "           else:\n",
    "                print(\"You got an A, Champ!\")\n",
    "\n",
    "                \n",
    "def palindrome(val_string):\n",
    "    val_string = str(val_string)\n",
    "    reversedstring = val_string[::-1]\n",
    "    if reversedstring == val_string:\n",
    "        print(val_string,\"is a palindrome\")\n",
    "    else:\n",
    "        print(val_string,\"is not a palindrome\")\n",
    "\n",
    "def getuserdata():\n",
    "    \"\"\"This function collates student's comma-separated scoresscores from a user till 'no' is used to end\"\"\"\n",
    "    student_dict = {}\n",
    "    while True:\n",
    "        student_id = input(\"Please Enter the student ID: \")\n",
    "        student_scores = input(\"please enter student score separated by a ',':\")\n",
    "        student_scores_list = student_scores.split(\",\")\n",
    "        scores_list = []\n",
    "        for eachscore in student_scores_list:\n",
    "            eachscore = float(eachscore)\n",
    "            scores_list.append(eachscore)\n",
    "        student_dict[student_id] = scores_list\n",
    "        more_student = input(\"Enter 'no' if you do not want to terminate and press any other key to continue\")\n",
    "        if more_student.lower() == \"no\":\n",
    "            break\n",
    "        else:\n",
    "            continue\n",
    "    return student_dict\n",
    "\n",
    "def sumandaverage(student_dicts):\n",
    "    \"\"\"This function computes the sum and average for each student for data collected from the getuserdata function\"\"\"\n",
    "    summary={}\n",
    "    for eachstd in student_dicts:\n",
    "        _sum = 0\n",
    "        sumlist = []\n",
    "        for eachval in student_dicts[eachstd]:\n",
    "            _sum = _sum + eachval\n",
    "        averagescore = round(_sum/len(student_dicts[eachstd]),1)\n",
    "        sumlist = [_sum,averagescore]\n",
    "        summary[eachstd] = sumlist\n",
    "    #print(summary)\n",
    "    return summary\n",
    "\n",
    "    \n",
    "    "
   ]
  },
  {
   "cell_type": "code",
   "execution_count": 189,
   "metadata": {},
   "outputs": [
    {
     "data": {
      "text/plain": [
       "{'A': [253.0, 84.3], 'B': [178.0, 59.3], 'C': [109.0, 36.3]}"
      ]
     },
     "execution_count": 189,
     "metadata": {},
     "output_type": "execute_result"
    }
   ],
   "source": [
    "mydata = {'A': [99.0, 76.0, 78.0], 'B': [56.0, 77.0, 45.0], 'C': [67.0, 33.0, 9.0]}\n",
    "sumandaverage(mydata)"
   ]
  },
  {
   "cell_type": "code",
   "execution_count": null,
   "metadata": {},
   "outputs": [],
   "source": []
  },
  {
   "cell_type": "code",
   "execution_count": null,
   "metadata": {},
   "outputs": [],
   "source": []
  },
  {
   "cell_type": "code",
   "execution_count": null,
   "metadata": {},
   "outputs": [],
   "source": []
  },
  {
   "cell_type": "code",
   "execution_count": null,
   "metadata": {},
   "outputs": [],
   "source": []
  },
  {
   "cell_type": "code",
   "execution_count": null,
   "metadata": {},
   "outputs": [],
   "source": []
  },
  {
   "cell_type": "code",
   "execution_count": null,
   "metadata": {},
   "outputs": [],
   "source": []
  },
  {
   "cell_type": "code",
   "execution_count": null,
   "metadata": {},
   "outputs": [],
   "source": []
  }
 ],
 "metadata": {
  "kernelspec": {
   "display_name": "Python 3",
   "language": "python",
   "name": "python3"
  },
  "language_info": {
   "codemirror_mode": {
    "name": "ipython",
    "version": 3
   },
   "file_extension": ".py",
   "mimetype": "text/x-python",
   "name": "python",
   "nbconvert_exporter": "python",
   "pygments_lexer": "ipython3",
   "version": "3.7.0"
  }
 },
 "nbformat": 4,
 "nbformat_minor": 2
}
