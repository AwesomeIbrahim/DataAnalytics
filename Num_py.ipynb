{
 "cells": [
  {
   "cell_type": "markdown",
   "metadata": {},
   "source": [
    "Learning Numpy ECCAC80. 3C4CFF"
   ]
  },
  {
   "cell_type": "code",
   "execution_count": 1,
   "metadata": {},
   "outputs": [],
   "source": [
    "import numpy as np"
   ]
  },
  {
   "cell_type": "code",
   "execution_count": 20,
   "metadata": {},
   "outputs": [
    {
     "name": "stdout",
     "output_type": "stream",
     "text": [
      "0\n"
     ]
    }
   ],
   "source": [
    "mymatrix = np.array([[[1,2,3],[2,3,4]],[[8,9,0],[10,11,12]]],dtype = 'i')\n",
    "print(mymatrix[1,0,2])"
   ]
  },
  {
   "cell_type": "code",
   "execution_count": 18,
   "metadata": {},
   "outputs": [
    {
     "name": "stdout",
     "output_type": "stream",
     "text": [
      "3\n"
     ]
    }
   ],
   "source": [
    "print(mymatrix.ndim)"
   ]
  },
  {
   "cell_type": "code",
   "execution_count": 19,
   "metadata": {},
   "outputs": [
    {
     "data": {
      "text/plain": [
       "numpy.ndarray"
      ]
     },
     "execution_count": 19,
     "metadata": {},
     "output_type": "execute_result"
    }
   ],
   "source": [
    "type(mymatrix)"
   ]
  },
  {
   "cell_type": "code",
   "execution_count": 21,
   "metadata": {},
   "outputs": [
    {
     "data": {
      "text/plain": [
       "dtype('int32')"
      ]
     },
     "execution_count": 21,
     "metadata": {},
     "output_type": "execute_result"
    }
   ],
   "source": [
    "mymatrix.dtype"
   ]
  },
  {
   "cell_type": "code",
   "execution_count": 22,
   "metadata": {},
   "outputs": [
    {
     "data": {
      "text/plain": [
       "3"
      ]
     },
     "execution_count": 22,
     "metadata": {},
     "output_type": "execute_result"
    }
   ],
   "source": [
    "mymatrix.ndim"
   ]
  },
  {
   "cell_type": "code",
   "execution_count": 25,
   "metadata": {},
   "outputs": [
    {
     "name": "stdout",
     "output_type": "stream",
     "text": [
      "[ 0  5 10 15 20 25 30 35 40 45 50 55 60 65 70 75 80 85 90 95]\n"
     ]
    }
   ],
   "source": [
    "myvar = np.arange(0,100,5)\n",
    "print(myvar)"
   ]
  },
  {
   "cell_type": "code",
   "execution_count": 27,
   "metadata": {},
   "outputs": [
    {
     "name": "stdout",
     "output_type": "stream",
     "text": [
      "[85 95 10 70 55 60 35 20 25 40 80 65 75 90 15  5 45  0 50 30]\n"
     ]
    }
   ],
   "source": [
    "print(np.random.permutation(myvar))"
   ]
  },
  {
   "cell_type": "code",
   "execution_count": 28,
   "metadata": {},
   "outputs": [
    {
     "name": "stdout",
     "output_type": "stream",
     "text": [
      "4\n"
     ]
    }
   ],
   "source": [
    "print(np.random.randint(0,5))"
   ]
  },
  {
   "cell_type": "code",
   "execution_count": 32,
   "metadata": {},
   "outputs": [
    {
     "data": {
      "text/plain": [
       "(array([1028., 1009.,  991.,  994.,  981., 1013., 1046., 1003., 1011.,\n",
       "         924.]),\n",
       " array([1.92009021e-05, 1.00015031e-01, 2.00010860e-01, 3.00006690e-01,\n",
       "        4.00002520e-01, 4.99998349e-01, 5.99994179e-01, 6.99990009e-01,\n",
       "        7.99985838e-01, 8.99981668e-01, 9.99977498e-01]),\n",
       " <a list of 10 Patch objects>)"
      ]
     },
     "execution_count": 32,
     "metadata": {},
     "output_type": "execute_result"
    },
    {
     "data": {
      "image/png": "[encoded data removed]",
      "text/plain": [
       "<Figure size 432x288 with 1 Axes>"
      ]
     },
     "metadata": {
      "needs_background": "light"
     },
     "output_type": "display_data"
    }
   ],
   "source": [
    "A = np.random.rand(10000)\n",
    "import matplotlib.pyplot as plt\n",
    "plt.hist(A)"
   ]
  },
  {
   "cell_type": "code",
   "execution_count": 33,
   "metadata": {},
   "outputs": [
    {
     "name": "stdout",
     "output_type": "stream",
     "text": [
      "3\n"
     ]
    }
   ],
   "source": [
    "print(np.random.randint(0,5))"
   ]
  },
  {
   "cell_type": "code",
   "execution_count": 52,
   "metadata": {},
   "outputs": [
    {
     "data": {
      "text/plain": [
       "(array([1.000e+00, 0.000e+00, 0.000e+00, 0.000e+00, 0.000e+00, 0.000e+00,\n",
       "        0.000e+00, 0.000e+00, 0.000e+00, 0.000e+00, 0.000e+00, 0.000e+00,\n",
       "        0.000e+00, 0.000e+00, 0.000e+00, 0.000e+00, 0.000e+00, 0.000e+00,\n",
       "        0.000e+00, 0.000e+00, 1.000e+00, 1.000e+00, 0.000e+00, 0.000e+00,\n",
       "        0.000e+00, 0.000e+00, 0.000e+00, 0.000e+00, 0.000e+00, 0.000e+00,\n",
       "        1.000e+00, 0.000e+00, 0.000e+00, 2.000e+00, 0.000e+00, 1.000e+00,\n",
       "        3.000e+00, 1.000e+00, 0.000e+00, 1.000e+00, 0.000e+00, 0.000e+00,\n",
       "        1.000e+00, 4.000e+00, 4.000e+00, 1.000e+00, 3.000e+00, 3.000e+00,\n",
       "        1.000e+00, 5.000e+00, 6.000e+00, 4.000e+00, 6.000e+00, 4.000e+00,\n",
       "        3.000e+00, 5.000e+00, 5.000e+00, 1.200e+01, 7.000e+00, 1.300e+01,\n",
       "        5.000e+00, 5.000e+00, 1.400e+01, 8.000e+00, 2.200e+01, 1.300e+01,\n",
       "        2.500e+01, 1.300e+01, 1.900e+01, 2.200e+01, 2.200e+01, 1.700e+01,\n",
       "        1.900e+01, 2.400e+01, 3.700e+01, 3.300e+01, 2.900e+01, 3.000e+01,\n",
       "        4.600e+01, 5.700e+01, 3.400e+01, 3.500e+01, 4.800e+01, 5.600e+01,\n",
       "        7.300e+01, 5.300e+01, 8.400e+01, 8.700e+01, 7.100e+01, 8.600e+01,\n",
       "        8.700e+01, 1.010e+02, 9.400e+01, 1.060e+02, 1.400e+02, 1.070e+02,\n",
       "        1.240e+02, 1.470e+02, 1.310e+02, 1.590e+02, 1.540e+02, 1.430e+02,\n",
       "        1.650e+02, 2.040e+02, 2.310e+02, 2.040e+02, 2.170e+02, 2.380e+02,\n",
       "        2.570e+02, 2.360e+02, 2.890e+02, 3.020e+02, 2.950e+02, 3.210e+02,\n",
       "        3.370e+02, 3.470e+02, 3.620e+02, 4.370e+02, 4.130e+02, 4.300e+02,\n",
       "        4.630e+02, 5.090e+02, 5.040e+02, 5.250e+02, 5.580e+02, 5.730e+02,\n",
       "        5.950e+02, 6.170e+02, 6.870e+02, 7.090e+02, 7.250e+02, 7.300e+02,\n",
       "        8.110e+02, 8.500e+02, 8.560e+02, 8.770e+02, 8.900e+02, 9.700e+02,\n",
       "        1.011e+03, 1.035e+03, 1.078e+03, 1.091e+03, 1.110e+03, 1.169e+03,\n",
       "        1.251e+03, 1.230e+03, 1.308e+03, 1.353e+03, 1.391e+03, 1.463e+03,\n",
       "        1.401e+03, 1.431e+03, 1.599e+03, 1.591e+03, 1.664e+03, 1.631e+03,\n",
       "        1.720e+03, 1.669e+03, 1.850e+03, 1.863e+03, 1.965e+03, 1.923e+03,\n",
       "        1.983e+03, 1.944e+03, 2.005e+03, 2.134e+03, 2.119e+03, 2.125e+03,\n",
       "        2.159e+03, 2.256e+03, 2.232e+03, 2.389e+03, 2.408e+03, 2.305e+03,\n",
       "        2.377e+03, 2.438e+03, 2.485e+03, 2.577e+03, 2.604e+03, 2.663e+03,\n",
       "        2.584e+03, 2.626e+03, 2.670e+03, 2.743e+03, 2.735e+03, 2.728e+03,\n",
       "        2.813e+03, 2.864e+03, 2.912e+03, 2.877e+03, 2.881e+03, 2.811e+03,\n",
       "        2.882e+03, 2.899e+03, 2.952e+03, 2.897e+03, 2.908e+03, 2.973e+03,\n",
       "        2.895e+03, 3.040e+03, 2.963e+03, 2.894e+03, 2.922e+03, 2.779e+03,\n",
       "        2.800e+03, 2.856e+03, 2.880e+03, 2.856e+03, 2.837e+03, 2.778e+03,\n",
       "        2.905e+03, 2.859e+03, 2.744e+03, 2.786e+03, 2.752e+03, 2.810e+03,\n",
       "        2.630e+03, 2.682e+03, 2.527e+03, 2.591e+03, 2.461e+03, 2.568e+03,\n",
       "        2.435e+03, 2.481e+03, 2.428e+03, 2.349e+03, 2.354e+03, 2.217e+03,\n",
       "        2.280e+03, 2.232e+03, 2.135e+03, 2.066e+03, 2.206e+03, 2.080e+03,\n",
       "        2.017e+03, 1.944e+03, 1.919e+03, 1.811e+03, 1.846e+03, 1.717e+03,\n",
       "        1.768e+03, 1.706e+03, 1.606e+03, 1.616e+03, 1.648e+03, 1.506e+03,\n",
       "        1.493e+03, 1.465e+03, 1.396e+03, 1.339e+03, 1.333e+03, 1.329e+03,\n",
       "        1.306e+03, 1.228e+03, 1.135e+03, 1.126e+03, 1.093e+03, 1.100e+03,\n",
       "        1.048e+03, 9.940e+02, 9.610e+02, 9.100e+02, 8.330e+02, 8.550e+02,\n",
       "        8.030e+02, 7.870e+02, 7.370e+02, 7.190e+02, 6.990e+02, 6.510e+02,\n",
       "        6.330e+02, 5.870e+02, 5.950e+02, 5.720e+02, 4.930e+02, 4.790e+02,\n",
       "        4.700e+02, 4.500e+02, 4.410e+02, 3.990e+02, 4.050e+02, 3.880e+02,\n",
       "        3.630e+02, 3.240e+02, 3.430e+02, 3.300e+02, 3.170e+02, 2.750e+02,\n",
       "        2.740e+02, 2.530e+02, 2.480e+02, 2.030e+02, 2.060e+02, 2.100e+02,\n",
       "        1.970e+02, 1.700e+02, 1.650e+02, 1.710e+02, 1.610e+02, 1.500e+02,\n",
       "        1.400e+02, 1.180e+02, 1.090e+02, 1.220e+02, 1.020e+02, 6.900e+01,\n",
       "        8.800e+01, 1.000e+02, 7.000e+01, 9.300e+01, 7.400e+01, 5.500e+01,\n",
       "        6.000e+01, 6.600e+01, 6.500e+01, 5.900e+01, 6.400e+01, 4.100e+01,\n",
       "        4.000e+01, 3.400e+01, 1.800e+01, 3.000e+01, 3.600e+01, 2.400e+01,\n",
       "        2.700e+01, 2.100e+01, 2.800e+01, 2.400e+01, 1.800e+01, 1.800e+01,\n",
       "        1.100e+01, 1.800e+01, 2.400e+01, 1.600e+01, 2.100e+01, 1.300e+01,\n",
       "        7.000e+00, 1.200e+01, 7.000e+00, 4.000e+00, 4.000e+00, 9.000e+00,\n",
       "        6.000e+00, 7.000e+00, 5.000e+00, 8.000e+00, 7.000e+00, 5.000e+00,\n",
       "        6.000e+00, 1.000e+00, 3.000e+00, 4.000e+00, 1.000e+00, 1.000e+00,\n",
       "        2.000e+00, 3.000e+00, 1.000e+00, 1.000e+00, 2.000e+00, 3.000e+00,\n",
       "        2.000e+00, 0.000e+00, 0.000e+00, 1.000e+00, 1.000e+00, 0.000e+00,\n",
       "        1.000e+00, 1.000e+00, 0.000e+00, 0.000e+00, 1.000e+00, 0.000e+00,\n",
       "        1.000e+00, 1.000e+00, 2.000e+00, 0.000e+00, 0.000e+00, 0.000e+00,\n",
       "        0.000e+00, 0.000e+00, 1.000e+00, 0.000e+00, 0.000e+00, 0.000e+00,\n",
       "        0.000e+00, 0.000e+00, 0.000e+00, 0.000e+00, 0.000e+00, 0.000e+00,\n",
       "        0.000e+00, 0.000e+00, 0.000e+00, 0.000e+00, 0.000e+00, 0.000e+00,\n",
       "        0.000e+00, 0.000e+00, 0.000e+00, 1.000e+00]),\n",
       " array([-4.86255565e+00, -4.83811246e+00, -4.81366927e+00, -4.78922608e+00,\n",
       "        -4.76478290e+00, -4.74033971e+00, -4.71589652e+00, -4.69145333e+00,\n",
       "        -4.66701014e+00, -4.64256696e+00, -4.61812377e+00, -4.59368058e+00,\n",
       "        -4.56923739e+00, -4.54479420e+00, -4.52035102e+00, -4.49590783e+00,\n",
       "        -4.47146464e+00, -4.44702145e+00, -4.42257826e+00, -4.39813508e+00,\n",
       "        -4.37369189e+00, -4.34924870e+00, -4.32480551e+00, -4.30036232e+00,\n",
       "        -4.27591914e+00, -4.25147595e+00, -4.22703276e+00, -4.20258957e+00,\n",
       "        -4.17814638e+00, -4.15370320e+00, -4.12926001e+00, -4.10481682e+00,\n",
       "        -4.08037363e+00, -4.05593044e+00, -4.03148726e+00, -4.00704407e+00,\n",
       "        -3.98260088e+00, -3.95815769e+00, -3.93371450e+00, -3.90927132e+00,\n",
       "        -3.88482813e+00, -3.86038494e+00, -3.83594175e+00, -3.81149856e+00,\n",
       "        -3.78705538e+00, -3.76261219e+00, -3.73816900e+00, -3.71372581e+00,\n",
       "        -3.68928263e+00, -3.66483944e+00, -3.64039625e+00, -3.61595306e+00,\n",
       "        -3.59150987e+00, -3.56706669e+00, -3.54262350e+00, -3.51818031e+00,\n",
       "        -3.49373712e+00, -3.46929393e+00, -3.44485075e+00, -3.42040756e+00,\n",
       "        -3.39596437e+00, -3.37152118e+00, -3.34707799e+00, -3.32263481e+00,\n",
       "        -3.29819162e+00, -3.27374843e+00, -3.24930524e+00, -3.22486205e+00,\n",
       "        -3.20041887e+00, -3.17597568e+00, -3.15153249e+00, -3.12708930e+00,\n",
       "        -3.10264611e+00, -3.07820293e+00, -3.05375974e+00, -3.02931655e+00,\n",
       "        -3.00487336e+00, -2.98043017e+00, -2.95598699e+00, -2.93154380e+00,\n",
       "        -2.90710061e+00, -2.88265742e+00, -2.85821423e+00, -2.83377105e+00,\n",
       "        -2.80932786e+00, -2.78488467e+00, -2.76044148e+00, -2.73599829e+00,\n",
       "        -2.71155511e+00, -2.68711192e+00, -2.66266873e+00, -2.63822554e+00,\n",
       "        -2.61378235e+00, -2.58933917e+00, -2.56489598e+00, -2.54045279e+00,\n",
       "        -2.51600960e+00, -2.49156641e+00, -2.46712323e+00, -2.44268004e+00,\n",
       "        -2.41823685e+00, -2.39379366e+00, -2.36935047e+00, -2.34490729e+00,\n",
       "        -2.32046410e+00, -2.29602091e+00, -2.27157772e+00, -2.24713453e+00,\n",
       "        -2.22269135e+00, -2.19824816e+00, -2.17380497e+00, -2.14936178e+00,\n",
       "        -2.12491859e+00, -2.10047541e+00, -2.07603222e+00, -2.05158903e+00,\n",
       "        -2.02714584e+00, -2.00270265e+00, -1.97825947e+00, -1.95381628e+00,\n",
       "        -1.92937309e+00, -1.90492990e+00, -1.88048671e+00, -1.85604353e+00,\n",
       "        -1.83160034e+00, -1.80715715e+00, -1.78271396e+00, -1.75827077e+00,\n",
       "        -1.73382759e+00, -1.70938440e+00, -1.68494121e+00, -1.66049802e+00,\n",
       "        -1.63605483e+00, -1.61161165e+00, -1.58716846e+00, -1.56272527e+00,\n",
       "        -1.53828208e+00, -1.51383889e+00, -1.48939571e+00, -1.46495252e+00,\n",
       "        -1.44050933e+00, -1.41606614e+00, -1.39162295e+00, -1.36717977e+00,\n",
       "        -1.34273658e+00, -1.31829339e+00, -1.29385020e+00, -1.26940701e+00,\n",
       "        -1.24496383e+00, -1.22052064e+00, -1.19607745e+00, -1.17163426e+00,\n",
       "        -1.14719107e+00, -1.12274789e+00, -1.09830470e+00, -1.07386151e+00,\n",
       "        -1.04941832e+00, -1.02497513e+00, -1.00053195e+00, -9.76088758e-01,\n",
       "        -9.51645570e-01, -9.27202382e-01, -9.02759194e-01, -8.78316006e-01,\n",
       "        -8.53872818e-01, -8.29429630e-01, -8.04986442e-01, -7.80543254e-01,\n",
       "        -7.56100066e-01, -7.31656878e-01, -7.07213690e-01, -6.82770502e-01,\n",
       "        -6.58327314e-01, -6.33884126e-01, -6.09440938e-01, -5.84997750e-01,\n",
       "        -5.60554562e-01, -5.36111374e-01, -5.11668186e-01, -4.87224998e-01,\n",
       "        -4.62781810e-01, -4.38338622e-01, -4.13895434e-01, -3.89452246e-01,\n",
       "        -3.65009058e-01, -3.40565870e-01, -3.16122682e-01, -2.91679494e-01,\n",
       "        -2.67236306e-01, -2.42793118e-01, -2.18349930e-01, -1.93906742e-01,\n",
       "        -1.69463554e-01, -1.45020366e-01, -1.20577178e-01, -9.61339905e-02,\n",
       "        -7.16908025e-02, -4.72476145e-02, -2.28044265e-02,  1.63876151e-03,\n",
       "         2.60819495e-02,  5.05251375e-02,  7.49683255e-02,  9.94115135e-02,\n",
       "         1.23854701e-01,  1.48297889e-01,  1.72741077e-01,  1.97184265e-01,\n",
       "         2.21627453e-01,  2.46070641e-01,  2.70513829e-01,  2.94957017e-01,\n",
       "         3.19400205e-01,  3.43843393e-01,  3.68286581e-01,  3.92729769e-01,\n",
       "         4.17172957e-01,  4.41616145e-01,  4.66059333e-01,  4.90502521e-01,\n",
       "         5.14945709e-01,  5.39388897e-01,  5.63832085e-01,  5.88275273e-01,\n",
       "         6.12718461e-01,  6.37161649e-01,  6.61604837e-01,  6.86048025e-01,\n",
       "         7.10491213e-01,  7.34934401e-01,  7.59377589e-01,  7.83820777e-01,\n",
       "         8.08263965e-01,  8.32707153e-01,  8.57150341e-01,  8.81593529e-01,\n",
       "         9.06036717e-01,  9.30479905e-01,  9.54923093e-01,  9.79366281e-01,\n",
       "         1.00380947e+00,  1.02825266e+00,  1.05269585e+00,  1.07713903e+00,\n",
       "         1.10158222e+00,  1.12602541e+00,  1.15046860e+00,  1.17491179e+00,\n",
       "         1.19935497e+00,  1.22379816e+00,  1.24824135e+00,  1.27268454e+00,\n",
       "         1.29712773e+00,  1.32157091e+00,  1.34601410e+00,  1.37045729e+00,\n",
       "         1.39490048e+00,  1.41934366e+00,  1.44378685e+00,  1.46823004e+00,\n",
       "         1.49267323e+00,  1.51711642e+00,  1.54155960e+00,  1.56600279e+00,\n",
       "         1.59044598e+00,  1.61488917e+00,  1.63933236e+00,  1.66377554e+00,\n",
       "         1.68821873e+00,  1.71266192e+00,  1.73710511e+00,  1.76154830e+00,\n",
       "         1.78599148e+00,  1.81043467e+00,  1.83487786e+00,  1.85932105e+00,\n",
       "         1.88376424e+00,  1.90820742e+00,  1.93265061e+00,  1.95709380e+00,\n",
       "         1.98153699e+00,  2.00598018e+00,  2.03042336e+00,  2.05486655e+00,\n",
       "         2.07930974e+00,  2.10375293e+00,  2.12819612e+00,  2.15263930e+00,\n",
       "         2.17708249e+00,  2.20152568e+00,  2.22596887e+00,  2.25041206e+00,\n",
       "         2.27485524e+00,  2.29929843e+00,  2.32374162e+00,  2.34818481e+00,\n",
       "         2.37262800e+00,  2.39707118e+00,  2.42151437e+00,  2.44595756e+00,\n",
       "         2.47040075e+00,  2.49484394e+00,  2.51928712e+00,  2.54373031e+00,\n",
       "         2.56817350e+00,  2.59261669e+00,  2.61705988e+00,  2.64150306e+00,\n",
       "         2.66594625e+00,  2.69038944e+00,  2.71483263e+00,  2.73927582e+00,\n",
       "         2.76371900e+00,  2.78816219e+00,  2.81260538e+00,  2.83704857e+00,\n",
       "         2.86149176e+00,  2.88593494e+00,  2.91037813e+00,  2.93482132e+00,\n",
       "         2.95926451e+00,  2.98370770e+00,  3.00815088e+00,  3.03259407e+00,\n",
       "         3.05703726e+00,  3.08148045e+00,  3.10592364e+00,  3.13036682e+00,\n",
       "         3.15481001e+00,  3.17925320e+00,  3.20369639e+00,  3.22813958e+00,\n",
       "         3.25258276e+00,  3.27702595e+00,  3.30146914e+00,  3.32591233e+00,\n",
       "         3.35035552e+00,  3.37479870e+00,  3.39924189e+00,  3.42368508e+00,\n",
       "         3.44812827e+00,  3.47257146e+00,  3.49701464e+00,  3.52145783e+00,\n",
       "         3.54590102e+00,  3.57034421e+00,  3.59478740e+00,  3.61923058e+00,\n",
       "         3.64367377e+00,  3.66811696e+00,  3.69256015e+00,  3.71700334e+00,\n",
       "         3.74144652e+00,  3.76588971e+00,  3.79033290e+00,  3.81477609e+00,\n",
       "         3.83921928e+00,  3.86366246e+00,  3.88810565e+00,  3.91254884e+00,\n",
       "         3.93699203e+00,  3.96143522e+00,  3.98587840e+00,  4.01032159e+00,\n",
       "         4.03476478e+00,  4.05920797e+00,  4.08365116e+00,  4.10809434e+00,\n",
       "         4.13253753e+00,  4.15698072e+00,  4.18142391e+00,  4.20586710e+00,\n",
       "         4.23031028e+00,  4.25475347e+00,  4.27919666e+00,  4.30363985e+00,\n",
       "         4.32808304e+00,  4.35252622e+00,  4.37696941e+00,  4.40141260e+00,\n",
       "         4.42585579e+00,  4.45029898e+00,  4.47474216e+00,  4.49918535e+00,\n",
       "         4.52362854e+00,  4.54807173e+00,  4.57251492e+00,  4.59695810e+00,\n",
       "         4.62140129e+00,  4.64584448e+00,  4.67028767e+00,  4.69473086e+00,\n",
       "         4.71917404e+00,  4.74361723e+00,  4.76806042e+00,  4.79250361e+00,\n",
       "         4.81694680e+00,  4.84138998e+00,  4.86583317e+00,  4.89027636e+00,\n",
       "         4.91471955e+00]),\n",
       " <a list of 400 Patch objects>)"
      ]
     },
     "execution_count": 52,
     "metadata": {},
     "output_type": "execute_result"
    },
    {
     "data": {
      "image/png": "[encoded data removed]",
      "text/plain": [
       "<Figure size 432x288 with 1 Axes>"
      ]
     },
     "metadata": {
      "needs_background": "light"
     },
     "output_type": "display_data"
    }
   ],
   "source": [
    "B = np.random.randn(300000)\n",
    "plt.hist(B, bins = 400)"
   ]
  },
  {
   "cell_type": "code",
   "execution_count": 38,
   "metadata": {},
   "outputs": [
    {
     "name": "stdout",
     "output_type": "stream",
     "text": [
      "[[0.60831524 0.14114561 0.32143053 0.60781395]\n",
      " [0.13230936 0.51351685 0.06973463 0.21597719]]\n"
     ]
    }
   ],
   "source": [
    "C = np.random.rand(2,4)\n",
    "print(C)"
   ]
  },
  {
   "cell_type": "code",
   "execution_count": 44,
   "metadata": {},
   "outputs": [
    {
     "name": "stdout",
     "output_type": "stream",
     "text": [
      "[0.2280612  0.36123028 0.96834719 0.41334778 0.88005622 0.05817465\n",
      " 0.3710041  0.57716399 0.34382893 0.71627269 0.06216561 0.12868202\n",
      " 0.82303973 0.70563833 0.29063071 0.87767447 0.01515809 0.83433677\n",
      " 0.01029507 0.25224805 0.90091503 0.18279191 0.37232018 0.25126378\n",
      " 0.75025341 0.8107223  0.41352797]\n",
      "[[[0.88005622 0.12868202 0.3710041 ]\n",
      "  [0.34382893 0.41334778 0.90091503]\n",
      "  [0.83433677 0.29063071 0.57716399]]\n",
      "\n",
      " [[0.75025341 0.25224805 0.96834719]\n",
      "  [0.25126378 0.01515809 0.41352797]\n",
      "  [0.2280612  0.01029507 0.05817465]]\n",
      "\n",
      " [[0.82303973 0.37232018 0.36123028]\n",
      "  [0.06216561 0.71627269 0.70563833]\n",
      "  [0.8107223  0.18279191 0.87767447]]]\n"
     ]
    }
   ],
   "source": [
    "D = np.random.rand(27)\n",
    "print(D)\n",
    "D =(np.random.permutation(D))\n",
    "E = D.reshape(3,3,3)\n",
    "print(E)"
   ]
  },
  {
   "cell_type": "code",
   "execution_count": 43,
   "metadata": {},
   "outputs": [
    {
     "name": "stdout",
     "output_type": "stream",
     "text": [
      "[[ 4  8  6]\n",
      " [11  7 10]\n",
      " [ 5  3  9]]\n",
      "[[ 4  8]\n",
      " [11  7]]\n",
      "[array([4, 6, 5, 3])]\n"
     ]
    }
   ],
   "source": [
    "import numpy as np\n",
    "matrix1 = np.round(10*(np.random.randn(30)),1)\n",
    "matrix2 = np.round(np.sum(matrix1))\n",
    "matrix3 = np.random.permutation(np.arange(9)).reshape(3,3)\n",
    "matrix4 = matrix3 + 3\n",
    "matrix13 = [[2],[3],[4]]\n",
    "matrix5 = matrix3 + matrix13\n",
    "print(matrix4)\n",
    "print(matrix4[0:2,0:2])\n",
    "newmat4 = [matrix4[(matrix4 > 2) & (matrix4 <7)]]\n",
    "print(newmat4)\n"
   ]
  },
  {
   "cell_type": "code",
   "execution_count": 41,
   "metadata": {},
   "outputs": [
    {
     "name": "stdout",
     "output_type": "stream",
     "text": [
      "[27 40 58 86 16 46 81 45 72 54 66 28 41 89 39 53 10 62 57 36 34 85 44 83\n",
      " 95 51 50 73 47 42 69 59  5 87 82 20  1 17 15 70 37  4  9 11 55 23 19 26\n",
      " 79 22 33 49 84 60 61 91 67 24 13 14 88 93 18 32  8 43 12 76 25 31  3 98\n",
      "  7 77 94 80 64 90 78 63 52  0 65 29  6 38 30 96 74 35 75 68 92 21 97 71\n",
      " 48 56  2]\n",
      "[ 0  1  2  3  4  5  6  7  8  9 10 11 12 13 14 15 16 17 18 19 20 21 22 23\n",
      " 24 25 26 27 28 29 30 31 32 33 34 35 36 37 38 39 40 41 42 43 44 45 46 47\n",
      " 48 49 50 51 52 53 54 55 56 57 58 59 60 61 62 63 64 65 66 67 68 69 70 71\n",
      " 72 73 74 75 76 77 78 79 80 81 82 83 84 85 86 87 88 89 90 91 92 93 94 95\n",
      " 96 97 98]\n",
      "[98 97 96 95 94 93 92 91 90 89 88 87 86 85 84 83 82 81 80 79 78 77 76 75\n",
      " 74 73 72 71 70 69 68 67 66 65 64 63 62 61 60 59 58 57 56 55 54 53 52 51\n",
      " 50 49 48 47 46 45 44 43 42 41 40 39 38 37 36 35 34 33 32 31 30 29 28 27\n",
      " 26 25 24 23 22 21 20 19 18 17 16 15 14 13 12 11 10  9  8  7  6  5  4  3\n",
      "  2  1  0]\n"
     ]
    }
   ],
   "source": [
    "nynum = np.random.permutation(np.arange(0,99))\n",
    "print(nynum)\n",
    "nynum = np.sort(nynum)\n",
    "print(nynum)\n",
    "reversednum = nynum[::-1]\n",
    "print(reversednum)"
   ]
  },
  {
   "cell_type": "code",
   "execution_count": 63,
   "metadata": {},
   "outputs": [
    {
     "data": {
      "text/plain": [
       "(array([1., 1., 0., 0., 1., 0., 0., 2., 0., 1.]),\n",
       " array([19. , 26.9, 34.8, 42.7, 50.6, 58.5, 66.4, 74.3, 82.2, 90.1, 98. ]),\n",
       " <a list of 10 Patch objects>)"
      ]
     },
     "execution_count": 63,
     "metadata": {},
     "output_type": "execute_result"
    },
    {
     "data": {
      "image/png": "[encoded data removed]",
      "text/plain": [
       "<Figure size 432x288 with 1 Axes>"
      ]
     },
     "metadata": {
      "needs_background": "light"
     },
     "output_type": "display_data"
    }
   ],
   "source": [
    "import pandas as pd\n",
    "import numpy as np\n",
    "import matplotlib.pyplot as plt\n",
    "grades_lower = {\"A\":70,\"B\":60,\"C\":50,\"D\":45,\"E\":40,\"F\":0}\n",
    "grades_upper = {\"A\":100,\"B\":69,\"C\":59,\"D\":49,\"E\":44,\"F\":39}\n",
    "grades_count = {\"A\":76,\"B\":81,\"C\":98,\"D\":29,\"E\":56,\"F\":19}\n",
    "grad_lower = pd.Series(grades_lower)\n",
    "grad_upper = pd.Series(grades_upper)\n",
    "grad_count = pd.Series(grades_count)\n",
    "mydata = pd.DataFrame({\"Lower Limit\":grad_lower, \"Upper Limit\":grad_upper, \"Number of students\":grad_count})\n",
    "#print(grad_lower)\n",
    "#print(grad_upper)\n",
    "plt.hist(grad_count)\n"
   ]
  },
  {
   "cell_type": "code",
   "execution_count": 64,
   "metadata": {},
   "outputs": [
    {
     "data": {
      "text/html": [
       "<div>\n",
       "<style scoped>\n",
       "    .dataframe tbody tr th:only-of-type {\n",
       "        vertical-align: middle;\n",
       "    }\n",
       "\n",
       "    .dataframe tbody tr th {\n",
       "        vertical-align: top;\n",
       "    }\n",
       "\n",
       "    .dataframe thead th {\n",
       "        text-align: right;\n",
       "    }\n",
       "</style>\n",
       "<table border=\"1\" class=\"dataframe\">\n",
       "  <thead>\n",
       "    <tr style=\"text-align: right;\">\n",
       "      <th></th>\n",
       "      <th>A</th>\n",
       "      <th>B</th>\n",
       "      <th>C</th>\n",
       "      <th>D</th>\n",
       "      <th>E</th>\n",
       "      <th>F</th>\n",
       "    </tr>\n",
       "  </thead>\n",
       "  <tbody>\n",
       "    <tr>\n",
       "      <th>Lower Limit</th>\n",
       "      <td>70</td>\n",
       "      <td>60</td>\n",
       "      <td>50</td>\n",
       "      <td>45</td>\n",
       "      <td>40</td>\n",
       "      <td>0</td>\n",
       "    </tr>\n",
       "    <tr>\n",
       "      <th>Upper Limit</th>\n",
       "      <td>100</td>\n",
       "      <td>69</td>\n",
       "      <td>59</td>\n",
       "      <td>49</td>\n",
       "      <td>44</td>\n",
       "      <td>39</td>\n",
       "    </tr>\n",
       "    <tr>\n",
       "      <th>Number of students</th>\n",
       "      <td>76</td>\n",
       "      <td>81</td>\n",
       "      <td>98</td>\n",
       "      <td>29</td>\n",
       "      <td>56</td>\n",
       "      <td>19</td>\n",
       "    </tr>\n",
       "  </tbody>\n",
       "</table>\n",
       "</div>"
      ],
      "text/plain": [
       "                      A   B   C   D   E   F\n",
       "Lower Limit          70  60  50  45  40   0\n",
       "Upper Limit         100  69  59  49  44  39\n",
       "Number of students   76  81  98  29  56  19"
      ]
     },
     "execution_count": 64,
     "metadata": {},
     "output_type": "execute_result"
    }
   ],
   "source": [
    "mydata.T"
   ]
  },
  {
   "cell_type": "code",
   "execution_count": 67,
   "metadata": {},
   "outputs": [
    {
     "data": {
      "text/plain": [
       "array([[ 70, 100,  76],\n",
       "       [ 60,  69,  81],\n",
       "       [ 50,  59,  98],\n",
       "       [ 45,  49,  29],\n",
       "       [ 40,  44,  56],\n",
       "       [  0,  39,  19]])"
      ]
     },
     "execution_count": 67,
     "metadata": {},
     "output_type": "execute_result"
    }
   ],
   "source": [
    "mydata.T.T.values"
   ]
  },
  {
   "cell_type": "code",
   "execution_count": 70,
   "metadata": {},
   "outputs": [],
   "source": [
    "mydata['Scaled Score'] = 90/100 * mydata['Upper Limit'] "
   ]
  },
  {
   "cell_type": "code",
   "execution_count": 71,
   "metadata": {},
   "outputs": [
    {
     "data": {
      "text/html": [
       "<div>\n",
       "<style scoped>\n",
       "    .dataframe tbody tr th:only-of-type {\n",
       "        vertical-align: middle;\n",
       "    }\n",
       "\n",
       "    .dataframe tbody tr th {\n",
       "        vertical-align: top;\n",
       "    }\n",
       "\n",
       "    .dataframe thead th {\n",
       "        text-align: right;\n",
       "    }\n",
       "</style>\n",
       "<table border=\"1\" class=\"dataframe\">\n",
       "  <thead>\n",
       "    <tr style=\"text-align: right;\">\n",
       "      <th></th>\n",
       "      <th>Lower Limit</th>\n",
       "      <th>Upper Limit</th>\n",
       "      <th>Number of students</th>\n",
       "      <th>Scaled Score</th>\n",
       "    </tr>\n",
       "  </thead>\n",
       "  <tbody>\n",
       "    <tr>\n",
       "      <th>A</th>\n",
       "      <td>70</td>\n",
       "      <td>100</td>\n",
       "      <td>76</td>\n",
       "      <td>90.0</td>\n",
       "    </tr>\n",
       "    <tr>\n",
       "      <th>B</th>\n",
       "      <td>60</td>\n",
       "      <td>69</td>\n",
       "      <td>81</td>\n",
       "      <td>62.1</td>\n",
       "    </tr>\n",
       "    <tr>\n",
       "      <th>C</th>\n",
       "      <td>50</td>\n",
       "      <td>59</td>\n",
       "      <td>98</td>\n",
       "      <td>53.1</td>\n",
       "    </tr>\n",
       "    <tr>\n",
       "      <th>D</th>\n",
       "      <td>45</td>\n",
       "      <td>49</td>\n",
       "      <td>29</td>\n",
       "      <td>44.1</td>\n",
       "    </tr>\n",
       "    <tr>\n",
       "      <th>E</th>\n",
       "      <td>40</td>\n",
       "      <td>44</td>\n",
       "      <td>56</td>\n",
       "      <td>39.6</td>\n",
       "    </tr>\n",
       "    <tr>\n",
       "      <th>F</th>\n",
       "      <td>0</td>\n",
       "      <td>39</td>\n",
       "      <td>19</td>\n",
       "      <td>35.1</td>\n",
       "    </tr>\n",
       "  </tbody>\n",
       "</table>\n",
       "</div>"
      ],
      "text/plain": [
       "   Lower Limit  Upper Limit  Number of students  Scaled Score\n",
       "A           70          100                  76          90.0\n",
       "B           60           69                  81          62.1\n",
       "C           50           59                  98          53.1\n",
       "D           45           49                  29          44.1\n",
       "E           40           44                  56          39.6\n",
       "F            0           39                  19          35.1"
      ]
     },
     "execution_count": 71,
     "metadata": {},
     "output_type": "execute_result"
    }
   ],
   "source": [
    "mydata"
   ]
  },
  {
   "cell_type": "code",
   "execution_count": 83,
   "metadata": {},
   "outputs": [],
   "source": [
    "import sklearn\n",
    "import pandas as pd\n",
    "import numpy as np\n",
    "from sklearn.preprocessing import imputation\n",
    "#from sklearn.impute import SimpleImputer"
   ]
  },
  {
   "cell_type": "code",
   "execution_count": 89,
   "metadata": {},
   "outputs": [],
   "source": [
    "datafile = pd.read_csv('/Users/ibrahimraji/documents/pythonfiles/dataset/country_wise_latest.csv')"
   ]
  },
  {
   "cell_type": "code",
   "execution_count": 90,
   "metadata": {},
   "outputs": [
    {
     "data": {
      "text/html": [
       "<div>\n",
       "<style scoped>\n",
       "    .dataframe tbody tr th:only-of-type {\n",
       "        vertical-align: middle;\n",
       "    }\n",
       "\n",
       "    .dataframe tbody tr th {\n",
       "        vertical-align: top;\n",
       "    }\n",
       "\n",
       "    .dataframe thead th {\n",
       "        text-align: right;\n",
       "    }\n",
       "</style>\n",
       "<table border=\"1\" class=\"dataframe\">\n",
       "  <thead>\n",
       "    <tr style=\"text-align: right;\">\n",
       "      <th></th>\n",
       "      <th>Country/Region</th>\n",
       "      <th>Confirmed</th>\n",
       "      <th>Deaths</th>\n",
       "      <th>Recovered</th>\n",
       "      <th>Active</th>\n",
       "      <th>New cases</th>\n",
       "      <th>New deaths</th>\n",
       "      <th>New recovered</th>\n",
       "      <th>Deaths / 100 Cases</th>\n",
       "      <th>Recovered / 100 Cases</th>\n",
       "      <th>Deaths / 100 Recovered</th>\n",
       "      <th>Confirmed last week</th>\n",
       "      <th>1 week change</th>\n",
       "      <th>1 week % increase</th>\n",
       "      <th>WHO Region</th>\n",
       "    </tr>\n",
       "  </thead>\n",
       "  <tbody>\n",
       "    <tr>\n",
       "      <th>0</th>\n",
       "      <td>Afghanistan</td>\n",
       "      <td>36263</td>\n",
       "      <td>1269</td>\n",
       "      <td>25198</td>\n",
       "      <td>9796</td>\n",
       "      <td>106</td>\n",
       "      <td>10</td>\n",
       "      <td>18</td>\n",
       "      <td>3.50</td>\n",
       "      <td>69.49</td>\n",
       "      <td>5.04</td>\n",
       "      <td>35526</td>\n",
       "      <td>737</td>\n",
       "      <td>2.07</td>\n",
       "      <td>Eastern Mediterranean</td>\n",
       "    </tr>\n",
       "    <tr>\n",
       "      <th>1</th>\n",
       "      <td>Albania</td>\n",
       "      <td>4880</td>\n",
       "      <td>144</td>\n",
       "      <td>2745</td>\n",
       "      <td>1991</td>\n",
       "      <td>117</td>\n",
       "      <td>6</td>\n",
       "      <td>63</td>\n",
       "      <td>2.95</td>\n",
       "      <td>56.25</td>\n",
       "      <td>5.25</td>\n",
       "      <td>4171</td>\n",
       "      <td>709</td>\n",
       "      <td>17.00</td>\n",
       "      <td>Europe</td>\n",
       "    </tr>\n",
       "    <tr>\n",
       "      <th>2</th>\n",
       "      <td>Algeria</td>\n",
       "      <td>27973</td>\n",
       "      <td>1163</td>\n",
       "      <td>18837</td>\n",
       "      <td>7973</td>\n",
       "      <td>616</td>\n",
       "      <td>8</td>\n",
       "      <td>749</td>\n",
       "      <td>4.16</td>\n",
       "      <td>67.34</td>\n",
       "      <td>6.17</td>\n",
       "      <td>23691</td>\n",
       "      <td>4282</td>\n",
       "      <td>18.07</td>\n",
       "      <td>Africa</td>\n",
       "    </tr>\n",
       "    <tr>\n",
       "      <th>3</th>\n",
       "      <td>Andorra</td>\n",
       "      <td>907</td>\n",
       "      <td>52</td>\n",
       "      <td>803</td>\n",
       "      <td>52</td>\n",
       "      <td>10</td>\n",
       "      <td>0</td>\n",
       "      <td>0</td>\n",
       "      <td>5.73</td>\n",
       "      <td>88.53</td>\n",
       "      <td>6.48</td>\n",
       "      <td>884</td>\n",
       "      <td>23</td>\n",
       "      <td>2.60</td>\n",
       "      <td>Europe</td>\n",
       "    </tr>\n",
       "    <tr>\n",
       "      <th>4</th>\n",
       "      <td>Angola</td>\n",
       "      <td>950</td>\n",
       "      <td>41</td>\n",
       "      <td>242</td>\n",
       "      <td>667</td>\n",
       "      <td>18</td>\n",
       "      <td>1</td>\n",
       "      <td>0</td>\n",
       "      <td>4.32</td>\n",
       "      <td>25.47</td>\n",
       "      <td>16.94</td>\n",
       "      <td>749</td>\n",
       "      <td>201</td>\n",
       "      <td>26.84</td>\n",
       "      <td>Africa</td>\n",
       "    </tr>\n",
       "    <tr>\n",
       "      <th>5</th>\n",
       "      <td>Antigua and Barbuda</td>\n",
       "      <td>86</td>\n",
       "      <td>3</td>\n",
       "      <td>65</td>\n",
       "      <td>18</td>\n",
       "      <td>4</td>\n",
       "      <td>0</td>\n",
       "      <td>5</td>\n",
       "      <td>3.49</td>\n",
       "      <td>75.58</td>\n",
       "      <td>4.62</td>\n",
       "      <td>76</td>\n",
       "      <td>10</td>\n",
       "      <td>13.16</td>\n",
       "      <td>Americas</td>\n",
       "    </tr>\n",
       "    <tr>\n",
       "      <th>6</th>\n",
       "      <td>Argentina</td>\n",
       "      <td>167416</td>\n",
       "      <td>3059</td>\n",
       "      <td>72575</td>\n",
       "      <td>91782</td>\n",
       "      <td>4890</td>\n",
       "      <td>120</td>\n",
       "      <td>2057</td>\n",
       "      <td>1.83</td>\n",
       "      <td>43.35</td>\n",
       "      <td>4.21</td>\n",
       "      <td>130774</td>\n",
       "      <td>36642</td>\n",
       "      <td>28.02</td>\n",
       "      <td>Americas</td>\n",
       "    </tr>\n",
       "    <tr>\n",
       "      <th>7</th>\n",
       "      <td>Armenia</td>\n",
       "      <td>37390</td>\n",
       "      <td>711</td>\n",
       "      <td>26665</td>\n",
       "      <td>10014</td>\n",
       "      <td>73</td>\n",
       "      <td>6</td>\n",
       "      <td>187</td>\n",
       "      <td>1.90</td>\n",
       "      <td>71.32</td>\n",
       "      <td>2.67</td>\n",
       "      <td>34981</td>\n",
       "      <td>2409</td>\n",
       "      <td>6.89</td>\n",
       "      <td>Europe</td>\n",
       "    </tr>\n",
       "    <tr>\n",
       "      <th>8</th>\n",
       "      <td>Australia</td>\n",
       "      <td>15303</td>\n",
       "      <td>167</td>\n",
       "      <td>9311</td>\n",
       "      <td>5825</td>\n",
       "      <td>368</td>\n",
       "      <td>6</td>\n",
       "      <td>137</td>\n",
       "      <td>1.09</td>\n",
       "      <td>60.84</td>\n",
       "      <td>1.79</td>\n",
       "      <td>12428</td>\n",
       "      <td>2875</td>\n",
       "      <td>23.13</td>\n",
       "      <td>Western Pacific</td>\n",
       "    </tr>\n",
       "    <tr>\n",
       "      <th>9</th>\n",
       "      <td>Austria</td>\n",
       "      <td>20558</td>\n",
       "      <td>713</td>\n",
       "      <td>18246</td>\n",
       "      <td>1599</td>\n",
       "      <td>86</td>\n",
       "      <td>1</td>\n",
       "      <td>37</td>\n",
       "      <td>3.47</td>\n",
       "      <td>88.75</td>\n",
       "      <td>3.91</td>\n",
       "      <td>19743</td>\n",
       "      <td>815</td>\n",
       "      <td>4.13</td>\n",
       "      <td>Europe</td>\n",
       "    </tr>\n",
       "  </tbody>\n",
       "</table>\n",
       "</div>"
      ],
      "text/plain": [
       "        Country/Region  Confirmed  Deaths  Recovered  Active  New cases  \\\n",
       "0          Afghanistan      36263    1269      25198    9796        106   \n",
       "1              Albania       4880     144       2745    1991        117   \n",
       "2              Algeria      27973    1163      18837    7973        616   \n",
       "3              Andorra        907      52        803      52         10   \n",
       "4               Angola        950      41        242     667         18   \n",
       "5  Antigua and Barbuda         86       3         65      18          4   \n",
       "6            Argentina     167416    3059      72575   91782       4890   \n",
       "7              Armenia      37390     711      26665   10014         73   \n",
       "8            Australia      15303     167       9311    5825        368   \n",
       "9              Austria      20558     713      18246    1599         86   \n",
       "\n",
       "   New deaths  New recovered  Deaths / 100 Cases  Recovered / 100 Cases  \\\n",
       "0          10             18                3.50                  69.49   \n",
       "1           6             63                2.95                  56.25   \n",
       "2           8            749                4.16                  67.34   \n",
       "3           0              0                5.73                  88.53   \n",
       "4           1              0                4.32                  25.47   \n",
       "5           0              5                3.49                  75.58   \n",
       "6         120           2057                1.83                  43.35   \n",
       "7           6            187                1.90                  71.32   \n",
       "8           6            137                1.09                  60.84   \n",
       "9           1             37                3.47                  88.75   \n",
       "\n",
       "   Deaths / 100 Recovered  Confirmed last week  1 week change  \\\n",
       "0                    5.04                35526            737   \n",
       "1                    5.25                 4171            709   \n",
       "2                    6.17                23691           4282   \n",
       "3                    6.48                  884             23   \n",
       "4                   16.94                  749            201   \n",
       "5                    4.62                   76             10   \n",
       "6                    4.21               130774          36642   \n",
       "7                    2.67                34981           2409   \n",
       "8                    1.79                12428           2875   \n",
       "9                    3.91                19743            815   \n",
       "\n",
       "   1 week % increase             WHO Region  \n",
       "0               2.07  Eastern Mediterranean  \n",
       "1              17.00                 Europe  \n",
       "2              18.07                 Africa  \n",
       "3               2.60                 Europe  \n",
       "4              26.84                 Africa  \n",
       "5              13.16               Americas  \n",
       "6              28.02               Americas  \n",
       "7               6.89                 Europe  \n",
       "8              23.13        Western Pacific  \n",
       "9               4.13                 Europe  "
      ]
     },
     "execution_count": 90,
     "metadata": {},
     "output_type": "execute_result"
    }
   ],
   "source": [
    "datafile.head(10)"
   ]
  },
  {
   "cell_type": "code",
   "execution_count": 87,
   "metadata": {},
   "outputs": [],
   "source": [
    "#del datafile['Country/Region']"
   ]
  },
  {
   "cell_type": "code",
   "execution_count": 91,
   "metadata": {},
   "outputs": [
    {
     "data": {
      "text/html": [
       "<div>\n",
       "<style scoped>\n",
       "    .dataframe tbody tr th:only-of-type {\n",
       "        vertical-align: middle;\n",
       "    }\n",
       "\n",
       "    .dataframe tbody tr th {\n",
       "        vertical-align: top;\n",
       "    }\n",
       "\n",
       "    .dataframe thead th {\n",
       "        text-align: right;\n",
       "    }\n",
       "</style>\n",
       "<table border=\"1\" class=\"dataframe\">\n",
       "  <thead>\n",
       "    <tr style=\"text-align: right;\">\n",
       "      <th></th>\n",
       "      <th>Country/Region</th>\n",
       "      <th>Confirmed</th>\n",
       "      <th>Deaths</th>\n",
       "      <th>Recovered</th>\n",
       "      <th>Active</th>\n",
       "      <th>New cases</th>\n",
       "      <th>New deaths</th>\n",
       "      <th>New recovered</th>\n",
       "      <th>Deaths / 100 Cases</th>\n",
       "      <th>Recovered / 100 Cases</th>\n",
       "      <th>Deaths / 100 Recovered</th>\n",
       "      <th>Confirmed last week</th>\n",
       "      <th>1 week change</th>\n",
       "      <th>1 week % increase</th>\n",
       "      <th>WHO Region</th>\n",
       "    </tr>\n",
       "  </thead>\n",
       "  <tbody>\n",
       "    <tr>\n",
       "      <th>0</th>\n",
       "      <td>Afghanistan</td>\n",
       "      <td>36263</td>\n",
       "      <td>1269</td>\n",
       "      <td>25198</td>\n",
       "      <td>9796</td>\n",
       "      <td>106</td>\n",
       "      <td>10</td>\n",
       "      <td>18</td>\n",
       "      <td>3.50</td>\n",
       "      <td>69.49</td>\n",
       "      <td>5.04</td>\n",
       "      <td>35526</td>\n",
       "      <td>737</td>\n",
       "      <td>2.07</td>\n",
       "      <td>Eastern Mediterranean</td>\n",
       "    </tr>\n",
       "    <tr>\n",
       "      <th>1</th>\n",
       "      <td>Albania</td>\n",
       "      <td>4880</td>\n",
       "      <td>144</td>\n",
       "      <td>2745</td>\n",
       "      <td>1991</td>\n",
       "      <td>117</td>\n",
       "      <td>6</td>\n",
       "      <td>63</td>\n",
       "      <td>2.95</td>\n",
       "      <td>56.25</td>\n",
       "      <td>5.25</td>\n",
       "      <td>4171</td>\n",
       "      <td>709</td>\n",
       "      <td>17.00</td>\n",
       "      <td>Europe</td>\n",
       "    </tr>\n",
       "    <tr>\n",
       "      <th>2</th>\n",
       "      <td>Algeria</td>\n",
       "      <td>27973</td>\n",
       "      <td>1163</td>\n",
       "      <td>18837</td>\n",
       "      <td>7973</td>\n",
       "      <td>616</td>\n",
       "      <td>8</td>\n",
       "      <td>749</td>\n",
       "      <td>4.16</td>\n",
       "      <td>67.34</td>\n",
       "      <td>6.17</td>\n",
       "      <td>23691</td>\n",
       "      <td>4282</td>\n",
       "      <td>18.07</td>\n",
       "      <td>Africa</td>\n",
       "    </tr>\n",
       "    <tr>\n",
       "      <th>3</th>\n",
       "      <td>Andorra</td>\n",
       "      <td>907</td>\n",
       "      <td>52</td>\n",
       "      <td>803</td>\n",
       "      <td>52</td>\n",
       "      <td>10</td>\n",
       "      <td>0</td>\n",
       "      <td>0</td>\n",
       "      <td>5.73</td>\n",
       "      <td>88.53</td>\n",
       "      <td>6.48</td>\n",
       "      <td>884</td>\n",
       "      <td>23</td>\n",
       "      <td>2.60</td>\n",
       "      <td>Europe</td>\n",
       "    </tr>\n",
       "    <tr>\n",
       "      <th>4</th>\n",
       "      <td>Angola</td>\n",
       "      <td>950</td>\n",
       "      <td>41</td>\n",
       "      <td>242</td>\n",
       "      <td>667</td>\n",
       "      <td>18</td>\n",
       "      <td>1</td>\n",
       "      <td>0</td>\n",
       "      <td>4.32</td>\n",
       "      <td>25.47</td>\n",
       "      <td>16.94</td>\n",
       "      <td>749</td>\n",
       "      <td>201</td>\n",
       "      <td>26.84</td>\n",
       "      <td>Africa</td>\n",
       "    </tr>\n",
       "  </tbody>\n",
       "</table>\n",
       "</div>"
      ],
      "text/plain": [
       "  Country/Region  Confirmed  Deaths  Recovered  Active  New cases  New deaths  \\\n",
       "0    Afghanistan      36263    1269      25198    9796        106          10   \n",
       "1        Albania       4880     144       2745    1991        117           6   \n",
       "2        Algeria      27973    1163      18837    7973        616           8   \n",
       "3        Andorra        907      52        803      52         10           0   \n",
       "4         Angola        950      41        242     667         18           1   \n",
       "\n",
       "   New recovered  Deaths / 100 Cases  Recovered / 100 Cases  \\\n",
       "0             18                3.50                  69.49   \n",
       "1             63                2.95                  56.25   \n",
       "2            749                4.16                  67.34   \n",
       "3              0                5.73                  88.53   \n",
       "4              0                4.32                  25.47   \n",
       "\n",
       "   Deaths / 100 Recovered  Confirmed last week  1 week change  \\\n",
       "0                    5.04                35526            737   \n",
       "1                    5.25                 4171            709   \n",
       "2                    6.17                23691           4282   \n",
       "3                    6.48                  884             23   \n",
       "4                   16.94                  749            201   \n",
       "\n",
       "   1 week % increase             WHO Region  \n",
       "0               2.07  Eastern Mediterranean  \n",
       "1              17.00                 Europe  \n",
       "2              18.07                 Africa  \n",
       "3               2.60                 Europe  \n",
       "4              26.84                 Africa  "
      ]
     },
     "execution_count": 91,
     "metadata": {},
     "output_type": "execute_result"
    }
   ],
   "source": [
    "datafile.head()"
   ]
  },
  {
   "cell_type": "code",
   "execution_count": 92,
   "metadata": {},
   "outputs": [
    {
     "data": {
      "text/html": [
       "<div>\n",
       "<style scoped>\n",
       "    .dataframe tbody tr th:only-of-type {\n",
       "        vertical-align: middle;\n",
       "    }\n",
       "\n",
       "    .dataframe tbody tr th {\n",
       "        vertical-align: top;\n",
       "    }\n",
       "\n",
       "    .dataframe thead th {\n",
       "        text-align: right;\n",
       "    }\n",
       "</style>\n",
       "<table border=\"1\" class=\"dataframe\">\n",
       "  <thead>\n",
       "    <tr style=\"text-align: right;\">\n",
       "      <th></th>\n",
       "      <th>Confirmed</th>\n",
       "      <th>Deaths</th>\n",
       "      <th>Recovered</th>\n",
       "      <th>Active</th>\n",
       "      <th>New cases</th>\n",
       "      <th>New deaths</th>\n",
       "      <th>New recovered</th>\n",
       "      <th>Deaths / 100 Cases</th>\n",
       "      <th>Recovered / 100 Cases</th>\n",
       "      <th>Deaths / 100 Recovered</th>\n",
       "      <th>Confirmed last week</th>\n",
       "      <th>1 week change</th>\n",
       "      <th>1 week % increase</th>\n",
       "    </tr>\n",
       "  </thead>\n",
       "  <tbody>\n",
       "    <tr>\n",
       "      <th>count</th>\n",
       "      <td>1.870000e+02</td>\n",
       "      <td>187.000000</td>\n",
       "      <td>1.870000e+02</td>\n",
       "      <td>1.870000e+02</td>\n",
       "      <td>187.000000</td>\n",
       "      <td>187.000000</td>\n",
       "      <td>187.000000</td>\n",
       "      <td>187.000000</td>\n",
       "      <td>187.000000</td>\n",
       "      <td>187.000000</td>\n",
       "      <td>1.870000e+02</td>\n",
       "      <td>187.000000</td>\n",
       "      <td>187.000000</td>\n",
       "    </tr>\n",
       "    <tr>\n",
       "      <th>mean</th>\n",
       "      <td>8.813094e+04</td>\n",
       "      <td>3497.518717</td>\n",
       "      <td>5.063148e+04</td>\n",
       "      <td>3.400194e+04</td>\n",
       "      <td>1222.957219</td>\n",
       "      <td>28.957219</td>\n",
       "      <td>933.812834</td>\n",
       "      <td>3.019519</td>\n",
       "      <td>64.820535</td>\n",
       "      <td>inf</td>\n",
       "      <td>7.868248e+04</td>\n",
       "      <td>9448.459893</td>\n",
       "      <td>13.606203</td>\n",
       "    </tr>\n",
       "    <tr>\n",
       "      <th>std</th>\n",
       "      <td>3.833187e+05</td>\n",
       "      <td>14100.002482</td>\n",
       "      <td>1.901882e+05</td>\n",
       "      <td>2.133262e+05</td>\n",
       "      <td>5710.374790</td>\n",
       "      <td>120.037173</td>\n",
       "      <td>4197.719635</td>\n",
       "      <td>3.454302</td>\n",
       "      <td>26.287694</td>\n",
       "      <td>NaN</td>\n",
       "      <td>3.382737e+05</td>\n",
       "      <td>47491.127684</td>\n",
       "      <td>24.509838</td>\n",
       "    </tr>\n",
       "    <tr>\n",
       "      <th>min</th>\n",
       "      <td>1.000000e+01</td>\n",
       "      <td>0.000000</td>\n",
       "      <td>0.000000e+00</td>\n",
       "      <td>0.000000e+00</td>\n",
       "      <td>0.000000</td>\n",
       "      <td>0.000000</td>\n",
       "      <td>0.000000</td>\n",
       "      <td>0.000000</td>\n",
       "      <td>0.000000</td>\n",
       "      <td>0.000000</td>\n",
       "      <td>1.000000e+01</td>\n",
       "      <td>-47.000000</td>\n",
       "      <td>-3.840000</td>\n",
       "    </tr>\n",
       "    <tr>\n",
       "      <th>25%</th>\n",
       "      <td>1.114000e+03</td>\n",
       "      <td>18.500000</td>\n",
       "      <td>6.265000e+02</td>\n",
       "      <td>1.415000e+02</td>\n",
       "      <td>4.000000</td>\n",
       "      <td>0.000000</td>\n",
       "      <td>0.000000</td>\n",
       "      <td>0.945000</td>\n",
       "      <td>48.770000</td>\n",
       "      <td>1.450000</td>\n",
       "      <td>1.051500e+03</td>\n",
       "      <td>49.000000</td>\n",
       "      <td>2.775000</td>\n",
       "    </tr>\n",
       "    <tr>\n",
       "      <th>50%</th>\n",
       "      <td>5.059000e+03</td>\n",
       "      <td>108.000000</td>\n",
       "      <td>2.815000e+03</td>\n",
       "      <td>1.600000e+03</td>\n",
       "      <td>49.000000</td>\n",
       "      <td>1.000000</td>\n",
       "      <td>22.000000</td>\n",
       "      <td>2.150000</td>\n",
       "      <td>71.320000</td>\n",
       "      <td>3.620000</td>\n",
       "      <td>5.020000e+03</td>\n",
       "      <td>432.000000</td>\n",
       "      <td>6.890000</td>\n",
       "    </tr>\n",
       "    <tr>\n",
       "      <th>75%</th>\n",
       "      <td>4.046050e+04</td>\n",
       "      <td>734.000000</td>\n",
       "      <td>2.260600e+04</td>\n",
       "      <td>9.149000e+03</td>\n",
       "      <td>419.500000</td>\n",
       "      <td>6.000000</td>\n",
       "      <td>221.000000</td>\n",
       "      <td>3.875000</td>\n",
       "      <td>86.885000</td>\n",
       "      <td>6.440000</td>\n",
       "      <td>3.708050e+04</td>\n",
       "      <td>3172.000000</td>\n",
       "      <td>16.855000</td>\n",
       "    </tr>\n",
       "    <tr>\n",
       "      <th>max</th>\n",
       "      <td>4.290259e+06</td>\n",
       "      <td>148011.000000</td>\n",
       "      <td>1.846641e+06</td>\n",
       "      <td>2.816444e+06</td>\n",
       "      <td>56336.000000</td>\n",
       "      <td>1076.000000</td>\n",
       "      <td>33728.000000</td>\n",
       "      <td>28.560000</td>\n",
       "      <td>100.000000</td>\n",
       "      <td>inf</td>\n",
       "      <td>3.834677e+06</td>\n",
       "      <td>455582.000000</td>\n",
       "      <td>226.320000</td>\n",
       "    </tr>\n",
       "  </tbody>\n",
       "</table>\n",
       "</div>"
      ],
      "text/plain": [
       "          Confirmed         Deaths     Recovered        Active     New cases  \\\n",
       "count  1.870000e+02     187.000000  1.870000e+02  1.870000e+02    187.000000   \n",
       "mean   8.813094e+04    3497.518717  5.063148e+04  3.400194e+04   1222.957219   \n",
       "std    3.833187e+05   14100.002482  1.901882e+05  2.133262e+05   5710.374790   \n",
       "min    1.000000e+01       0.000000  0.000000e+00  0.000000e+00      0.000000   \n",
       "25%    1.114000e+03      18.500000  6.265000e+02  1.415000e+02      4.000000   \n",
       "50%    5.059000e+03     108.000000  2.815000e+03  1.600000e+03     49.000000   \n",
       "75%    4.046050e+04     734.000000  2.260600e+04  9.149000e+03    419.500000   \n",
       "max    4.290259e+06  148011.000000  1.846641e+06  2.816444e+06  56336.000000   \n",
       "\n",
       "        New deaths  New recovered  Deaths / 100 Cases  Recovered / 100 Cases  \\\n",
       "count   187.000000     187.000000          187.000000             187.000000   \n",
       "mean     28.957219     933.812834            3.019519              64.820535   \n",
       "std     120.037173    4197.719635            3.454302              26.287694   \n",
       "min       0.000000       0.000000            0.000000               0.000000   \n",
       "25%       0.000000       0.000000            0.945000              48.770000   \n",
       "50%       1.000000      22.000000            2.150000              71.320000   \n",
       "75%       6.000000     221.000000            3.875000              86.885000   \n",
       "max    1076.000000   33728.000000           28.560000             100.000000   \n",
       "\n",
       "       Deaths / 100 Recovered  Confirmed last week  1 week change  \\\n",
       "count              187.000000         1.870000e+02     187.000000   \n",
       "mean                      inf         7.868248e+04    9448.459893   \n",
       "std                       NaN         3.382737e+05   47491.127684   \n",
       "min                  0.000000         1.000000e+01     -47.000000   \n",
       "25%                  1.450000         1.051500e+03      49.000000   \n",
       "50%                  3.620000         5.020000e+03     432.000000   \n",
       "75%                  6.440000         3.708050e+04    3172.000000   \n",
       "max                       inf         3.834677e+06  455582.000000   \n",
       "\n",
       "       1 week % increase  \n",
       "count         187.000000  \n",
       "mean           13.606203  \n",
       "std            24.509838  \n",
       "min            -3.840000  \n",
       "25%             2.775000  \n",
       "50%             6.890000  \n",
       "75%            16.855000  \n",
       "max           226.320000  "
      ]
     },
     "execution_count": 92,
     "metadata": {},
     "output_type": "execute_result"
    }
   ],
   "source": [
    "datafile.describe()"
   ]
  },
  {
   "cell_type": "code",
   "execution_count": 101,
   "metadata": {},
   "outputs": [
    {
     "name": "stdout",
     "output_type": "stream",
     "text": [
      "[0.00000000e+00 1.00010001e-03 2.00020002e-03 ... 9.99799980e+00\n",
      " 9.99899990e+00 1.00000000e+01]\n"
     ]
    },
    {
     "data": {
      "text/plain": [
       "[<matplotlib.lines.Line2D at 0x1a25c7ed68>]"
      ]
     },
     "execution_count": 101,
     "metadata": {},
     "output_type": "execute_result"
    },
    {
     "data": {
      "image/png": "[encoded data removed]",
      "text/plain": [
       "<Figure size 432x288 with 1 Axes>"
      ]
     },
     "metadata": {
      "needs_background": "light"
     },
     "output_type": "display_data"
    }
   ],
   "source": [
    "x = np.linspace(0,10,10000)\n",
    "print(x)\n",
    "y = (np.sinh(x))\n",
    "plt.plot(x,y)"
   ]
  },
  {
   "cell_type": "code",
   "execution_count": null,
   "metadata": {},
   "outputs": [],
   "source": []
  }
 ],
 "metadata": {
  "kernelspec": {
   "display_name": "Python 3",
   "language": "python",
   "name": "python3"
  },
  "language_info": {
   "codemirror_mode": {
    "name": "ipython",
    "version": 3
   },
   "file_extension": ".py",
   "mimetype": "text/x-python",
   "name": "python",
   "nbconvert_exporter": "python",
   "pygments_lexer": "ipython3",
   "version": "3.7.0"
  }
 },
 "nbformat": 4,
 "nbformat_minor": 2
}
