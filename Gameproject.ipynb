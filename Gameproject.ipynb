{
 "cells": [
  {
   "cell_type": "markdown",
   "metadata": {},
   "source": [
    "Guessing Game Project"
   ]
  },
  {
   "cell_type": "code",
   "execution_count": null,
   "metadata": {},
   "outputs": [],
   "source": [
    "#number guessing games\n",
    "#import random\n",
    "#randomized = int(random.randint(1,10))\n",
    "#print(randomized)\n",
    "def validateUserguess(result)\n",
    "\n",
    "    #result = user_guess == randomized\n",
    "    if user_guess < 0 or user_guess > 10:\n",
    "        print(\"You have entered an invalid number.\")\n",
    "    else:\n",
    "        if result == True:\n",
    "            print(\"You entered the correct number!!! You got it at attempt number: \" + str(attempt))\n",
    "            if attempt <= 3:\n",
    "                print(\"You are a gambling star\")\n",
    "            else:\n",
    "                pass\n",
    "            retry = input(\"Do you want to retry?: \")\n",
    "            retry = retry.lower()\n",
    "            if retry == \"no\":\n",
    "                break\n",
    "            elif retry == \"yes\":\n",
    "                continue\n",
    "            else:\n",
    "                print(\"Invalid response\")\n",
    "                break\n",
    "        else:\n",
    "            print(\"Incorrect!. Please try again\")\n",
    "            attempt = attempt + 1\n",
    "            continue\n",
    "    \n",
    "    \n",
    "\n",
    "\n"
   ]
  },
  {
   "cell_type": "code",
   "execution_count": 46,
   "metadata": {},
   "outputs": [],
   "source": [
    "def addition1(a,b,c):\n",
    "    sumup = a + b - c\n",
    "    return sumup"
   ]
  },
  {
   "cell_type": "code",
   "execution_count": 50,
   "metadata": {},
   "outputs": [
    {
     "data": {
      "text/plain": [
       "9"
      ]
     },
     "execution_count": 50,
     "metadata": {},
     "output_type": "execute_result"
    }
   ],
   "source": [
    "addition1(a = 4 , c = 10, b = 15)"
   ]
  },
  {
   "cell_type": "code",
   "execution_count": 7,
   "metadata": {},
   "outputs": [
    {
     "name": "stdout",
     "output_type": "stream",
     "text": [
      "9\n"
     ]
    }
   ],
   "source": [
    "print(addition1(2,3,4))"
   ]
  },
  {
   "cell_type": "code",
   "execution_count": 9,
   "metadata": {},
   "outputs": [
    {
     "name": "stdout",
     "output_type": "stream",
     "text": [
      "9\n"
     ]
    }
   ],
   "source": [
    "newVariable = addition1(2,3,4)\n",
    "print(newVariable)"
   ]
  },
  {
   "cell_type": "code",
   "execution_count": 43,
   "metadata": {},
   "outputs": [],
   "source": [
    "def stats(*variables):\n",
    "    mytemplist = []\n",
    "    for eachvariable in variables:\n",
    "        if isinstance(eachvariable,(int,float)):\n",
    "            mytemplist.append(eachvariable)\n",
    "        else:\n",
    "            pass\n",
    "    mytemplist.sort()\n",
    "    lengthofarray = len(mytemplist)\n",
    "    isum = 0\n",
    "    for eachvar in mytemplist:\n",
    "        isum = isum + eachvar\n",
    "    mean = isum/lengthofarray\n",
    "    if lengthofarray%2 != 0:\n",
    "        indexnum = int(((lengthofarray + 1)*0.5)-1)\n",
    "        median = mytemplist[indexnum]\n",
    "    else:\n",
    "        indexnum1 = int(lengthofarray/2)\n",
    "        indexnum2 = int((lengthofarray/2) - 1)\n",
    "        median = (mytemplist[indexnum1] + mytemplist[indexnum2])/2\n",
    "    print(\"The sorted array is: \", mytemplist)\n",
    "    print(\"The sum of the numbers in the array is: \", isum)\n",
    "    print(\"The mean is: \", mean)\n",
    "    print(\"The median is: \", median)\n",
    "    return mytemplist, isum, mean, median\n",
    "            \n",
    "        "
   ]
  },
  {
   "cell_type": "code",
   "execution_count": 45,
   "metadata": {},
   "outputs": [
    {
     "name": "stdout",
     "output_type": "stream",
     "text": [
      "The sorted array is:  [-1, 1, 2, 3, 4.0, 20, 23, 30, 89]\n",
      "The sum of the numbers in the array is:  171.0\n",
      "The mean is:  19.0\n",
      "The median is:  4.0\n"
     ]
    },
    {
     "data": {
      "text/plain": [
       "([-1, 1, 2, 3, 4.0, 20, 23, 30, 89], 171.0, 19.0, 4.0)"
      ]
     },
     "execution_count": 45,
     "metadata": {},
     "output_type": "execute_result"
    }
   ],
   "source": [
    "stats (2,3,4.0,\"string\", -1, 23,1, \"2x\", 89, 20,30)"
   ]
  },
  {
   "cell_type": "code",
   "execution_count": null,
   "metadata": {},
   "outputs": [],
   "source": []
  },
  {
   "cell_type": "code",
   "execution_count": null,
   "metadata": {},
   "outputs": [],
   "source": []
  }
 ],
 "metadata": {
  "kernelspec": {
   "display_name": "Python 3",
   "language": "python",
   "name": "python3"
  },
  "language_info": {
   "codemirror_mode": {
    "name": "ipython",
    "version": 3
   },
   "file_extension": ".py",
   "mimetype": "text/x-python",
   "name": "python",
   "nbconvert_exporter": "python",
   "pygments_lexer": "ipython3",
   "version": "3.7.0"
  }
 },
 "nbformat": 4,
 "nbformat_minor": 2
}
