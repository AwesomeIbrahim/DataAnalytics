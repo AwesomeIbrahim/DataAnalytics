{
 "cells": [
  {
   "cell_type": "code",
   "execution_count": 8,
   "metadata": {},
   "outputs": [],
   "source": [
    "def stats(*variables):\n",
    "    \"\"\"This function cleans an input and sort the numbers in an ascending order.\n",
    "    It also computes the mean as well as the median\"\"\"\n",
    "    mytemplist = []\n",
    "    for eachvariable in variables:\n",
    "        if isinstance(eachvariable,(int,float)):\n",
    "            mytemplist.append(eachvariable)\n",
    "        else:\n",
    "            pass\n",
    "    mytemplist.sort()\n",
    "    lengthofarray = len(mytemplist)\n",
    "    isum = 0\n",
    "    for eachvar in mytemplist:\n",
    "        isum = isum + eachvar\n",
    "    mean = isum/lengthofarray\n",
    "    if lengthofarray%2 != 0:\n",
    "        indexnum = int(((lengthofarray + 1)*0.5)-1)\n",
    "        median = mytemplist[indexnum]\n",
    "    else:\n",
    "        indexnum1 = int(lengthofarray/2)\n",
    "        indexnum2 = int((lengthofarray/2) - 1)\n",
    "        median = (mytemplist[indexnum1] + mytemplist[indexnum2])/2\n",
    "    print(\"The sorted array is: \", mytemplist)\n",
    "    print(\"The sum of the numbers in the array is: \", isum)\n",
    "    print(\"The mean is: \", mean)\n",
    "    print(\"The median is: \", median)\n",
    "    return mytemplist, isum, mean, median\n",
    "\n",
    "\n",
    "#number guessing games\n",
    "#import random\n",
    "#randomized = int(random.randint(1,10))\n",
    "#print(randomized)\n",
    "\n",
    "def resultofguess(user_guess, randomized):\n",
    "    \"\"\"This function takes a user input and validates it against a randomized integer\"\"\"\n",
    "    result = user_guess == randomized\n",
    "    if user_guess < 0 or user_guess > 10:\n",
    "        print(\"You have entered an invalid number.\")\n",
    "    else:\n",
    "        if result == True:\n",
    "            print(\"You entered the correct number!!!\")\n",
    "        else:\n",
    "            print(\"Incorrect!. Please try again\")\n",
    "\n",
    "    \n",
    "    \n",
    "\n",
    "\n",
    "def scoregrade(score):\n",
    "    \"\"\"This function accept a score between 0 and 100 and returns the student's grade\"\"\"\n",
    "    if score < 0 or score > 100:\n",
    "        print(\"You have entered an invalid score\")\n",
    "    else:\n",
    "           if score >= 0 and score < 40:\n",
    "                print(\"Grade: F\")\n",
    "           elif score >= 40 and score < 45:\n",
    "                print(\"Grade: E\")\n",
    "           elif score >= 45 and score < 50:\n",
    "                print(\"Grade: D\")\n",
    "           elif score >= 50 and score < 60:\n",
    "                print(\"Grade: C\")\n",
    "           elif score > 60 and score < 70:\n",
    "                print(\"Grade: B\")\n",
    "           else:\n",
    "                print(\"You got an A, Champ!\")\n",
    "\n",
    "                \n",
    "def palindrome(val_string):\n",
    "    val_string = str(val_string)\n",
    "    reversedstring = val_string[::-1]\n",
    "    if reversedstring == val_string:\n",
    "        print(val_string,\"is a palindrome\")\n",
    "    else:\n",
    "        print(val_string,\"is not a palindrome\")\n",
    "\n",
    "            "
   ]
  },
  {
   "cell_type": "code",
   "execution_count": 32,
   "metadata": {},
   "outputs": [
    {
     "name": "stdout",
     "output_type": "stream",
     "text": [
      "THE MAN IS GOOD\n",
      "True\n"
     ]
    }
   ],
   "source": [
    "a = \"    the boy is good \"\n",
    "b = a.strip().replace(\"boy\",\"man\").upper()\n",
    "#b = a.replace(\"boy\",\"man\")\n",
    "print(b)\n",
    "print(\"MAN\" in b)"
   ]
  },
  {
   "cell_type": "code",
   "execution_count": 38,
   "metadata": {},
   "outputs": [],
   "source": [
    "Mylist = [2,4,\"man\",2]\n",
    "MyTuple = (2,53,\"guy\")\n",
    "Myset = {2,3,45,1,2,5,8}\n",
    "Mydictionary = {0:\"No\",1:\"Yes\",2:\"Undecided\"}"
   ]
  },
  {
   "cell_type": "code",
   "execution_count": 34,
   "metadata": {},
   "outputs": [
    {
     "name": "stdout",
     "output_type": "stream",
     "text": [
      "[2, 4, 'man', 2] (2, 53, 'guy') {1, 2, 3, 5, 8, 45} {0: 'No', 1: 'Yes', 2: 'Undecided'}\n"
     ]
    }
   ],
   "source": [
    "print(Mylist, MyTuple, Myset,Mydictionary)"
   ]
  },
  {
   "cell_type": "code",
   "execution_count": 44,
   "metadata": {},
   "outputs": [
    {
     "name": "stdout",
     "output_type": "stream",
     "text": [
      "[2, 4, 'MAN', 2, 'newentry', 'newentry', 'newentry', 'newentry', 'newentry', 'newentry'] {3, 5, 8, 200, 45}\n"
     ]
    }
   ],
   "source": [
    "Mylist.append(\"newentry\")\n",
    "Mylist[2] =\"MAN\"\n",
    "#Myset.Remove(\"1\")\n",
    "Myset.add(200)\n",
    "print(Mylist, Myset)"
   ]
  },
  {
   "cell_type": "code",
   "execution_count": 47,
   "metadata": {},
   "outputs": [
    {
     "ename": "KeyError",
     "evalue": "3",
     "output_type": "error",
     "traceback": [
      "\u001b[0;31m---------------------------------------------------------------------------\u001b[0m",
      "\u001b[0;31mKeyError\u001b[0m                                  Traceback (most recent call last)",
      "\u001b[0;32m<ipython-input-47-c60bb3a058e0>\u001b[0m in \u001b[0;36m<module>\u001b[0;34m()\u001b[0m\n\u001b[0;32m----> 1\u001b[0;31m \u001b[0mMyset\u001b[0m\u001b[0;34m.\u001b[0m\u001b[0mremove\u001b[0m\u001b[0;34m(\u001b[0m\u001b[0;36m3\u001b[0m\u001b[0;34m)\u001b[0m\u001b[0;34m\u001b[0m\u001b[0m\n\u001b[0m",
      "\u001b[0;31mKeyError\u001b[0m: 3"
     ]
    }
   ],
   "source": [
    "Myset.remove(3)"
   ]
  },
  {
   "cell_type": "code",
   "execution_count": 48,
   "metadata": {},
   "outputs": [
    {
     "name": "stdout",
     "output_type": "stream",
     "text": [
      "{5, 8, 200, 45}\n"
     ]
    }
   ],
   "source": [
    "print(Myset)"
   ]
  },
  {
   "cell_type": "code",
   "execution_count": 50,
   "metadata": {},
   "outputs": [
    {
     "name": "stdout",
     "output_type": "stream",
     "text": [
      "[2, 4, 'MAN', 2, 'newentry', 'newentry', 'newentry', 'newentry', 'newentry', 'newentry']\n",
      "[2, 4, 'MAN', 2, 'newentry', 'newentry', 'newentry', 'newentry', 'newentry']\n"
     ]
    }
   ],
   "source": [
    "print(Mylist)\n",
    "Mylist.pop()\n",
    "print(Mylist)"
   ]
  },
  {
   "cell_type": "code",
   "execution_count": 51,
   "metadata": {},
   "outputs": [
    {
     "name": "stdout",
     "output_type": "stream",
     "text": [
      "[2, 4, 'MAN', 2, 'newentry', 'newentry', 'newentry', 'newentry', 'newentry', 1, 2, 3, 4, -1, 2, 3, 3, '000']\n"
     ]
    }
   ],
   "source": [
    "Mylist2 =[1,2,3,4,-1,2,3,3,\"000\"]\n",
    "print(Mylist + Mylist2)"
   ]
  },
  {
   "cell_type": "code",
   "execution_count": 52,
   "metadata": {},
   "outputs": [
    {
     "name": "stdout",
     "output_type": "stream",
     "text": [
      "[23, 34, 90]\n"
     ]
    }
   ],
   "source": [
    "stringa = \"23,34,90\"\n",
    "listofstring1 = stringa.split(\",\")\n",
    "newlist = []\n",
    "for eachvar in listofstring1:\n",
    "    eachvar = int(eachvar)\n",
    "    newlist.append(eachvar)\n",
    "print(newlist)"
   ]
  },
  {
   "cell_type": "code",
   "execution_count": 55,
   "metadata": {},
   "outputs": [
    {
     "name": "stdout",
     "output_type": "stream",
     "text": [
      "Please Enter the student ID: A245586\n",
      "please enter student score separated by a ',':23,09,89,76,34\n",
      "{'A245586': [23.0, 9.0, 89.0, 76.0, 34.0]}\n"
     ]
    }
   ],
   "source": [
    "student_dict = {}\n",
    "student_id = input(\"Please Enter the student ID: \")\n",
    "student_scores = input(\"please enter student score separated by a ',':\")\n",
    "student_scores_list = student_scores.split(\",\")\n",
    "scores_list = []\n",
    "for eachscore in student_scores_list:\n",
    "    eachscore = float(eachscore)\n",
    "    scores_list.append(eachscore)\n",
    "student_dict[student_id] = scores_list\n",
    "print(student_dict)"
   ]
  },
  {
   "cell_type": "code",
   "execution_count": null,
   "metadata": {},
   "outputs": [],
   "source": [
    "student_id = input(\"Please Enter the student ID: \")\n",
    "student_scores = input(\"please enter student score separated by a ',':\")\n",
    "student_scores_list = student_scores.split(\",\")\n",
    "print(student_scores_list)"
   ]
  }
 ],
 "metadata": {
  "kernelspec": {
   "display_name": "Python 3",
   "language": "python",
   "name": "python3"
  },
  "language_info": {
   "codemirror_mode": {
    "name": "ipython",
    "version": 3
   },
   "file_extension": ".py",
   "mimetype": "text/x-python",
   "name": "python",
   "nbconvert_exporter": "python",
   "pygments_lexer": "ipython3",
   "version": "3.7.0"
  }
 },
 "nbformat": 4,
 "nbformat_minor": 2
}
